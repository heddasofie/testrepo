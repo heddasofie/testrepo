{
 "cells": [
  {
   "cell_type": "markdown",
   "metadata": {
    "collapsed": true
   },
   "source": [
    "# My Jupyter Notebook on IBM Watson Studio"
   ]
  },
  {
   "cell_type": "markdown",
   "metadata": {},
   "source": [
    "__Hedda Mjelde__\n",
    "\n",
    "Junior Analytics Consultant"
   ]
  },
  {
   "cell_type": "markdown",
   "metadata": {},
   "source": [
    "*I am interested in data science because I like to the idea of using data to drive better decisions in businesses.*"
   ]
  },
  {
   "cell_type": "markdown",
   "metadata": {},
   "source": [
    "### It prints the most common test string in coding, \"Hello, World!\". "
   ]
  },
  {
   "cell_type": "code",
   "execution_count": 1,
   "metadata": {},
   "outputs": [
    {
     "name": "stdout",
     "output_type": "stream",
     "text": [
      "Hello, World!\n"
     ]
    }
   ],
   "source": [
    "print(\"Hello, World!\")"
   ]
  },
  {
   "cell_type": "markdown",
   "metadata": {},
   "source": [
    "__In this cell, I will use three things from the task list__\n",
    "\n",
    "__1 Hyper link to my github test accout, more specifically to the test repo.__ \n",
    "\n",
    "\n",
    "<ul>\n",
    "<li>Hyper link</li>\n",
    "<li>Horizontal Rule </li>\n",
    "<li>Blocked Quote</li>\n",
    "    <li>:</li>\n",
    "</ul>\n",
    "\n",
    "\n",
    "<a href=\"https://github.com/heddasofie/testrepo/\">Hedda's Test GitHub</a> \n",
    "___\n",
    "__2 Using horizontal rule__\n",
    "\n",
    "<p>Text below horizontal line 2</p>\n",
    "<hr>\n",
    "<p>Text below horizontal line 2</p>\n",
    "\n",
    "__3 Blocked quote__ \n",
    ">Blocked quote 1\n",
    "<blockquote>Blocked Quote 2</blockquote>"
   ]
  }
 ],
 "metadata": {
  "kernelspec": {
   "display_name": "Python 3.10",
   "language": "python",
   "name": "python3"
  },
  "language_info": {
   "codemirror_mode": {
    "name": "ipython",
    "version": 3
   },
   "file_extension": ".py",
   "mimetype": "text/x-python",
   "name": "python",
   "nbconvert_exporter": "python",
   "pygments_lexer": "ipython3",
   "version": "3.10.6"
  }
 },
 "nbformat": 4,
 "nbformat_minor": 1
}
